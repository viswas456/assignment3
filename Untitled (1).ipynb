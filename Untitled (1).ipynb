{
 "cells": [
  {
   "cell_type": "code",
   "execution_count": 1,
   "metadata": {},
   "outputs": [],
   "source": [
    "#1. Why are functions advantageous to have in your programs?"
   ]
  },
  {
   "cell_type": "code",
   "execution_count": 2,
   "metadata": {},
   "outputs": [
    {
     "name": "stdout",
     "output_type": "stream",
     "text": [
      "functions reduce the duplicate code.these make program shorter and easier to read\n"
     ]
    }
   ],
   "source": [
    "print(\"functions reduce the duplicate code.these make program shorter and easier to read\")\n"
   ]
  },
  {
   "cell_type": "code",
   "execution_count": 3,
   "metadata": {},
   "outputs": [
    {
     "name": "stdout",
     "output_type": "stream",
     "text": [
      "the code in function is run when it is called\n",
      "DEF creates the function\n",
      "for example\n"
     ]
    }
   ],
   "source": [
    "#2. When does the code in a function run: when its specified or when it;s called?\n",
    "print(\"the code in function is run when it is called\")\n",
    "\n",
    "\n",
    "\n",
    "#3. What statement creates a function?\n",
    "print(\"DEF creates the function\")\n",
    "print(\"for example\")\n",
    "def test():\n",
    "    pass"
   ]
  },
  {
   "cell_type": "code",
   "execution_count": 4,
   "metadata": {},
   "outputs": [
    {
     "name": "stdout",
     "output_type": "stream",
     "text": [
      "function\n",
      "these is the function\n"
     ]
    }
   ],
   "source": [
    "#4. What is the difference between a function and a function call?\n",
    "print(\"function\")\n",
    "def funct():\n",
    "    print(\"these is the function\")\n",
    "#function call\n",
    "funct()"
   ]
  },
  {
   "cell_type": "code",
   "execution_count": 5,
   "metadata": {},
   "outputs": [
    {
     "name": "stdout",
     "output_type": "stream",
     "text": [
      "there is one global scope and local scope is created whenever function is called\n"
     ]
    }
   ],
   "source": [
    "#5. How many global scopes are there in a Python program? How many local scopes?\n",
    "print(\"there is one global scope and local scope is created whenever function is called\")"
   ]
  },
  {
   "cell_type": "code",
   "execution_count": 6,
   "metadata": {},
   "outputs": [
    {
     "data": {
      "text/plain": [
       "20"
      ]
     },
     "execution_count": 6,
     "metadata": {},
     "output_type": "execute_result"
    }
   ],
   "source": [
    "#6. What happens to variables in a local scope when the function call returns?\n",
    "def funct1():\n",
    "    a=10\n",
    "    b=10\n",
    "    return a+b\n",
    "funct1()"
   ]
  },
  {
   "cell_type": "code",
   "execution_count": 11,
   "metadata": {},
   "outputs": [
    {
     "name": "stdout",
     "output_type": "stream",
     "text": [
      "not defined\n",
      "when the function is executing all local scopes are created after exection we cant cant call outside the function it willbe destroyed\n"
     ]
    }
   ],
   "source": [
    "try:\n",
    "    print(a)\n",
    "except:\n",
    "    print(\"not defined\")\n",
    "    \n",
    "print(\"when the function is executing all local scopes are created after exection we cant cant call outside the function it willbe destroyed\")"
   ]
  },
  {
   "cell_type": "code",
   "execution_count": 12,
   "metadata": {},
   "outputs": [
    {
     "name": "stdout",
     "output_type": "stream",
     "text": [
      "return function returns or print the value at the end of function or its holds the value of the function\n",
      "yes,its possible to return value as expression\n"
     ]
    }
   ],
   "source": [
    "#7. What is the concept of a return value? Is it possible to have a return value in an expression?\n",
    "print(\"return function returns or print the value at the end of function or its holds the value of the function\")\n",
    "print(\"yes,its possible to return value as expression\")"
   ]
  },
  {
   "cell_type": "code",
   "execution_count": 13,
   "metadata": {},
   "outputs": [
    {
     "name": "stdout",
     "output_type": "stream",
     "text": [
      "executing function without return statement\n"
     ]
    }
   ],
   "source": [
    "#8. If a function does not have a return statement, what is the return value of a call to that function?\n",
    "#for exmaple\n",
    "def funct3():\n",
    "    print(\"executing function without return statement\")\n",
    "funct3()"
   ]
  },
  {
   "cell_type": "code",
   "execution_count": 14,
   "metadata": {},
   "outputs": [
    {
     "name": "stdout",
     "output_type": "stream",
     "text": [
      "executing function without return statement\n"
     ]
    },
    {
     "data": {
      "text/plain": [
       "NoneType"
      ]
     },
     "execution_count": 14,
     "metadata": {},
     "output_type": "execute_result"
    }
   ],
   "source": [
    "type(funct3())"
   ]
  },
  {
   "cell_type": "code",
   "execution_count": 15,
   "metadata": {},
   "outputs": [
    {
     "name": "stdout",
     "output_type": "stream",
     "text": [
      "as seen above example , it returns none type\n"
     ]
    }
   ],
   "source": [
    "print(\"as seen above example , it returns none type\")"
   ]
  },
  {
   "cell_type": "code",
   "execution_count": 16,
   "metadata": {},
   "outputs": [
    {
     "name": "stdout",
     "output_type": "stream",
     "text": [
      "we can make function variable refer to the global variable by using the keyword global\n"
     ]
    },
    {
     "data": {
      "text/plain": [
       "'sai'"
      ]
     },
     "execution_count": 16,
     "metadata": {},
     "output_type": "execute_result"
    }
   ],
   "source": [
    "#9. How do you make a function variable refer to the global variable?\n",
    "print(\"we can make function variable refer to the global variable by using the keyword global\")\n",
    "def func4():\n",
    "    global x\n",
    "    x = \"sai\"\n",
    "    return x\n",
    "func4()"
   ]
  },
  {
   "cell_type": "code",
   "execution_count": 17,
   "metadata": {},
   "outputs": [
    {
     "name": "stdout",
     "output_type": "stream",
     "text": [
      "sai\n"
     ]
    }
   ],
   "source": [
    "print(x)"
   ]
  },
  {
   "cell_type": "code",
   "execution_count": 18,
   "metadata": {},
   "outputs": [
    {
     "name": "stdout",
     "output_type": "stream",
     "text": [
      "there is no datatype to the none\n"
     ]
    }
   ],
   "source": [
    "#10. What is the data type of None?\n",
    "print(\"there is no datatype to the none\")"
   ]
  },
  {
   "cell_type": "code",
   "execution_count": 19,
   "metadata": {},
   "outputs": [
    {
     "name": "stdout",
     "output_type": "stream",
     "text": [
      "its imports areallyournamederic\n",
      "ny calling it that module is executed\n",
      "we can refer to the areaallyournamederic functions by using .\n"
     ]
    }
   ],
   "source": [
    "#11. What does the sentence import areallyourpetsnamederic do?\n",
    "print(\"its imports areallyournamederic\")\n",
    "print(\"ny calling it that module is executed\")\n",
    "print(\"we can refer to the areaallyournamederic functions by using .\")"
   ]
  },
  {
   "cell_type": "markdown",
   "metadata": {},
   "source": [
    "#12. If you had a bacon() feature in a spam module, what would you call it after importing spam?\n",
    "import spam\n",
    "spam.bacon()"
   ]
  },
  {
   "cell_type": "code",
   "execution_count": 21,
   "metadata": {},
   "outputs": [
    {
     "name": "stdout",
     "output_type": "stream",
     "text": [
      "i will put all code in a try and except  block  if its will return error by the help of except \n",
      "program was not crashed if we use try and except\n"
     ]
    }
   ],
   "source": [
    "#13. What can you do to save a programme from crashing if it encounters an error?\n",
    "print(\"i will put all code in a try and except  block  if its will return error by the help of except \")\n",
    "print(\"program was not crashed if we use try and except\")"
   ]
  },
  {
   "cell_type": "code",
   "execution_count": 22,
   "metadata": {},
   "outputs": [
    {
     "name": "stdout",
     "output_type": "stream",
     "text": [
      "try clause check there is error in a code while except clause return error if the try block code not work properly\n"
     ]
    }
   ],
   "source": [
    "#14. What is the purpose of the try clause? What is the purpose of the except clause?\n",
    "print(\"try clause check there is error in a code while except clause return error if the try block code not work properly\")"
   ]
  },
  {
   "cell_type": "code",
   "execution_count": null,
   "metadata": {},
   "outputs": [],
   "source": []
  }
 ],
 "metadata": {
  "kernelspec": {
   "display_name": "Python 3",
   "language": "python",
   "name": "python3"
  },
  "language_info": {
   "codemirror_mode": {
    "name": "ipython",
    "version": 3
   },
   "file_extension": ".py",
   "mimetype": "text/x-python",
   "name": "python",
   "nbconvert_exporter": "python",
   "pygments_lexer": "ipython3",
   "version": "3.7.6"
  }
 },
 "nbformat": 4,
 "nbformat_minor": 4
}
